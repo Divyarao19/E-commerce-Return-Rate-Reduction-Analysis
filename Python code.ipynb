{
  "nbformat": 4,
  "nbformat_minor": 0,
  "metadata": {
    "colab": {
      "provenance": []
    },
    "kernelspec": {
      "name": "python3",
      "display_name": "Python 3"
    },
    "language_info": {
      "name": "python"
    }
  },
  "cells": [
    {
      "cell_type": "code",
      "source": [
        "import pandas as pd\n",
        "\n",
        "orders = pd.read_excel(\"/content/orders.csv.xlsx\")\n",
        "returns = pd.read_excel(\"/content/returns.csv.xlsx\")\n",
        "products = pd.read_excel(\"/content/products.csv.xlsx\")\n",
        "customers = pd.read_excel(\"/content/customers.csv.xlsx\")\n",
        "channels = pd.read_excel(\"/content/marketing_channels.csv.xlsx\")\n"
      ],
      "metadata": {
        "id": "9iCXYNipkkk0"
      },
      "execution_count": 1,
      "outputs": []
    },
    {
      "cell_type": "code",
      "source": [
        "orders['order_date'] = pd.to_datetime(orders['order_date'])\n",
        "orders['delivery_date'] = pd.to_datetime(orders['delivery_date'])\n",
        "returns['return_date'] = pd.to_datetime(returns['return_date'])\n"
      ],
      "metadata": {
        "id": "zMjbRy8Mkmw8"
      },
      "execution_count": 2,
      "outputs": []
    },
    {
      "cell_type": "code",
      "source": [
        "print(orders.columns)"
      ],
      "metadata": {
        "colab": {
          "base_uri": "https://localhost:8080/"
        },
        "id": "H3nL6bdOknNM",
        "outputId": "d07b2a2c-a734-4f64-c27c-f2dfea1c007f"
      },
      "execution_count": 3,
      "outputs": [
        {
          "output_type": "stream",
          "name": "stdout",
          "text": [
            "Index(['order_id', 'product_id', 'customer_id', 'price', 'discount',\n",
            "       'order_date', 'delivery_date'],\n",
            "      dtype='object')\n"
          ]
        }
      ]
    },
    {
      "cell_type": "code",
      "source": [
        "print(returns.columns)"
      ],
      "metadata": {
        "colab": {
          "base_uri": "https://localhost:8080/"
        },
        "id": "gkg96QPOknjo",
        "outputId": "ef167af5-a276-4dfb-bd1a-20a6c9735e94"
      },
      "execution_count": 4,
      "outputs": [
        {
          "output_type": "stream",
          "name": "stdout",
          "text": [
            "Index(['order_id', 'return_date', 'return_reason'], dtype='object')\n"
          ]
        }
      ]
    },
    {
      "cell_type": "code",
      "source": [
        "print(products.columns)"
      ],
      "metadata": {
        "colab": {
          "base_uri": "https://localhost:8080/"
        },
        "id": "ShZTy4Vhkn_f",
        "outputId": "f176fd19-1d8d-49c1-e81b-165a821f045d"
      },
      "execution_count": 5,
      "outputs": [
        {
          "output_type": "stream",
          "name": "stdout",
          "text": [
            "Index(['product_id', 'category', 'supplier_id'], dtype='object')\n"
          ]
        }
      ]
    },
    {
      "cell_type": "code",
      "source": [
        "print(customers.columns)"
      ],
      "metadata": {
        "colab": {
          "base_uri": "https://localhost:8080/"
        },
        "id": "ckbn_QVpkoYl",
        "outputId": "f68bb873-0164-4fd6-9dc5-cb71ec2e4762"
      },
      "execution_count": 6,
      "outputs": [
        {
          "output_type": "stream",
          "name": "stdout",
          "text": [
            "Index(['customer_id', 'region', 'age', 'gender'], dtype='object')\n"
          ]
        }
      ]
    },
    {
      "cell_type": "code",
      "source": [
        "print(channels.columns)"
      ],
      "metadata": {
        "colab": {
          "base_uri": "https://localhost:8080/"
        },
        "id": "apGmLEVsmMo6",
        "outputId": "b26ed921-fcd3-4ebf-8f0f-a92ce1832456"
      },
      "execution_count": 7,
      "outputs": [
        {
          "output_type": "stream",
          "name": "stdout",
          "text": [
            "Index(['order_id', 'channel'], dtype='object')\n"
          ]
        }
      ]
    },
    {
      "cell_type": "code",
      "source": [
        "# Add 'is_returned' flag\n",
        "orders['is_returned'] = orders['order_id'].isin(returns['order_id']).astype(int)\n",
        "\n",
        "# Merge all data\n",
        "df = orders.merge(products, on='product_id') \\\n",
        "           .merge(customers, on='customer_id') \\\n",
        "           .merge(channels, on='order_id', how='left')\n"
      ],
      "metadata": {
        "id": "LAJmCw2HmVDY"
      },
      "execution_count": 8,
      "outputs": []
    },
    {
      "cell_type": "code",
      "source": [
        "# Return % by Category\n",
        "df.groupby('category')['is_returned'].mean().sort_values(ascending=False).plot(kind='bar')\n"
      ],
      "metadata": {
        "colab": {
          "base_uri": "https://localhost:8080/",
          "height": 565
        },
        "id": "ilo1fwCUmVdM",
        "outputId": "957f2214-af61-4950-daf1-9e0fc0929e2d"
      },
      "execution_count": 9,
      "outputs": [
        {
          "output_type": "execute_result",
          "data": {
            "text/plain": [
              "<Axes: xlabel='category'>"
            ]
          },
          "metadata": {},
          "execution_count": 9
        },
        {
          "output_type": "display_data",
          "data": {
            "text/plain": [
              "<Figure size 640x480 with 1 Axes>"
            ],
            "image/png": "[encoded data removed]"
          },
          "metadata": {}
        }
      ]
    },
    {
      "cell_type": "code",
      "source": [
        "#Return % by Region\n",
        "df.groupby('region')['is_returned'].mean().plot(kind='bar', color='teal')"
      ],
      "metadata": {
        "colab": {
          "base_uri": "https://localhost:8080/",
          "height": 493
        },
        "id": "nnbU5W9SmV41",
        "outputId": "f9d5cfb2-89b9-493d-ccc3-ca442742ba8b"
      },
      "execution_count": 10,
      "outputs": [
        {
          "output_type": "execute_result",
          "data": {
            "text/plain": [
              "<Axes: xlabel='region'>"
            ]
          },
          "metadata": {},
          "execution_count": 10
        },
        {
          "output_type": "display_data",
          "data": {
            "text/plain": [
              "<Figure size 640x480 with 1 Axes>"
            ],
            "image/png": "[encoded data removed]"
          },
          "metadata": {}
        }
      ]
    },
    {
      "cell_type": "code",
      "source": [
        "# Return % by Marketing Channel\n",
        "df.groupby('channel')['is_returned'].mean().sort_values().plot(kind='barh')"
      ],
      "metadata": {
        "colab": {
          "base_uri": "https://localhost:8080/",
          "height": 447
        },
        "id": "SOM5MOjAmWYE",
        "outputId": "9293f3ff-516d-4733-cc35-4c4ebc93ab74"
      },
      "execution_count": 11,
      "outputs": [
        {
          "output_type": "execute_result",
          "data": {
            "text/plain": [
              "<Axes: ylabel='channel'>"
            ]
          },
          "metadata": {},
          "execution_count": 11
        },
        {
          "output_type": "display_data",
          "data": {
            "text/plain": [
              "<Figure size 640x480 with 1 Axes>"
            ],
            "image/png": "[encoded data removed]"
          },
          "metadata": {}
        }
      ]
    },
    {
      "cell_type": "code",
      "source": [
        "# Discount vs Return Rate\n",
        "import seaborn as sns\n",
        "sns.boxplot(x='is_returned', y='discount', data=df)"
      ],
      "metadata": {
        "colab": {
          "base_uri": "https://localhost:8080/",
          "height": 467
        },
        "id": "tjO0SzqRnZAB",
        "outputId": "4ff68a3e-d582-48ca-cfc1-38065bff9805"
      },
      "execution_count": 12,
      "outputs": [
        {
          "output_type": "execute_result",
          "data": {
            "text/plain": [
              "<Axes: xlabel='is_returned', ylabel='discount'>"
            ]
          },
          "metadata": {},
          "execution_count": 12
        },
        {
          "output_type": "display_data",
          "data": {
            "text/plain": [
              "<Figure size 640x480 with 1 Axes>"
            ],
            "image/png": "[encoded data removed]"
          },
          "metadata": {}
        }
      ]
    },
    {
      "cell_type": "code",
      "source": [
        "#  Supplier-wise Return Rates\n",
        "df.groupby('supplier_id')['is_returned'].mean().sort_values(ascending=False).head()\n"
      ],
      "metadata": {
        "colab": {
          "base_uri": "https://localhost:8080/",
          "height": 272
        },
        "id": "b1Gcz3q1nZdK",
        "outputId": "be4cb7b8-b7a9-43a7-c701-357d918f40a9"
      },
      "execution_count": 13,
      "outputs": [
        {
          "output_type": "execute_result",
          "data": {
            "text/plain": [
              "supplier_id\n",
              "S019    0.875000\n",
              "S012    0.571429\n",
              "S013    0.533333\n",
              "S017    0.500000\n",
              "S011    0.450000\n",
              "Name: is_returned, dtype: float64"
            ],
            "text/html": [
              "<div>\n",
              "<style scoped>\n",
              "    .dataframe tbody tr th:only-of-type {\n",
              "        vertical-align: middle;\n",
              "    }\n",
              "\n",
              "    .dataframe tbody tr th {\n",
              "        vertical-align: top;\n",
              "    }\n",
              "\n",
              "    .dataframe thead th {\n",
              "        text-align: right;\n",
              "    }\n",
              "</style>\n",
              "<table border=\"1\" class=\"dataframe\">\n",
              "  <thead>\n",
              "    <tr style=\"text-align: right;\">\n",
              "      <th></th>\n",
              "      <th>is_returned</th>\n",
              "    </tr>\n",
              "    <tr>\n",
              "      <th>supplier_id</th>\n",
              "      <th></th>\n",
              "    </tr>\n",
              "  </thead>\n",
              "  <tbody>\n",
              "    <tr>\n",
              "      <th>S019</th>\n",
              "      <td>0.875000</td>\n",
              "    </tr>\n",
              "    <tr>\n",
              "      <th>S012</th>\n",
              "      <td>0.571429</td>\n",
              "    </tr>\n",
              "    <tr>\n",
              "      <th>S013</th>\n",
              "      <td>0.533333</td>\n",
              "    </tr>\n",
              "    <tr>\n",
              "      <th>S017</th>\n",
              "      <td>0.500000</td>\n",
              "    </tr>\n",
              "    <tr>\n",
              "      <th>S011</th>\n",
              "      <td>0.450000</td>\n",
              "    </tr>\n",
              "  </tbody>\n",
              "</table>\n",
              "</div><br><label><b>dtype:</b> float64</label>"
            ]
          },
          "metadata": {},
          "execution_count": 13
        }
      ]
    },
    {
      "cell_type": "code",
      "source": [
        "df['discount_pct'] = df['discount'] / df['price']\n",
        "df['delivery_days'] = (df['delivery_date'] - df['order_date']).dt.days\n"
      ],
      "metadata": {
        "id": "1w8-GNLanZ0Z"
      },
      "execution_count": 14,
      "outputs": []
    },
    {
      "cell_type": "code",
      "source": [
        "from sklearn.model_selection import train_test_split\n",
        "from sklearn.linear_model import LogisticRegression\n",
        "from sklearn.preprocessing import OneHotEncoder\n",
        "from sklearn.metrics import classification_report\n",
        "\n",
        "# Features and target\n",
        "features = ['category', 'region', 'channel', 'discount_pct', 'delivery_days', 'price']\n",
        "X = pd.get_dummies(df[features], drop_first=True)\n",
        "y = df['is_returned']\n",
        "\n",
        "# Train-test split\n",
        "X_train, X_test, y_train, y_test = train_test_split(X, y, test_size=0.2, random_state=42)\n",
        "\n",
        "# Logistic Regression\n",
        "model = LogisticRegression(max_iter=1000)\n",
        "model.fit(X_train, y_train)\n",
        "y_pred = model.predict(X_test)\n",
        "\n",
        "# Evaluation\n",
        "print(classification_report(y_test, y_pred))\n"
      ],
      "metadata": {
        "colab": {
          "base_uri": "https://localhost:8080/"
        },
        "id": "K9rVC08jnaNG",
        "outputId": "6e62d6d1-ab0f-49f5-ae7b-40cca6215ccd"
      },
      "execution_count": 15,
      "outputs": [
        {
          "output_type": "stream",
          "name": "stdout",
          "text": [
            "              precision    recall  f1-score   support\n",
            "\n",
            "           0       0.66      0.85      0.74        27\n",
            "           1       0.20      0.08      0.11        13\n",
            "\n",
            "    accuracy                           0.60        40\n",
            "   macro avg       0.43      0.46      0.43        40\n",
            "weighted avg       0.51      0.60      0.54        40\n",
            "\n"
          ]
        }
      ]
    },
    {
      "cell_type": "code",
      "source": [
        "df['return_risk_score'] = model.predict_proba(X)[:, 1]\n"
      ],
      "metadata": {
        "id": "s3p5km90oblF"
      },
      "execution_count": 16,
      "outputs": []
    },
    {
      "cell_type": "code",
      "source": [
        "df[df['return_risk_score'] > 0.7][['order_id', 'product_id', 'return_risk_score']].to_csv(\"high_risk_products.csv\", index=False)\n"
      ],
      "metadata": {
        "id": "qU8m0XtjocAM"
      },
      "execution_count": 17,
      "outputs": []
    }
  ]
}